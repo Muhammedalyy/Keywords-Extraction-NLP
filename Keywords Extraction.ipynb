{
 "cells": [
  {
   "cell_type": "code",
   "execution_count": 5,
   "id": "bf3a30ad",
   "metadata": {},
   "outputs": [
    {
     "name": "stderr",
     "output_type": "stream",
     "text": [
      "[nltk_data] Downloading package stopwords to\n",
      "[nltk_data]     C:\\Users\\dell\\AppData\\Roaming\\nltk_data...\n",
      "[nltk_data]   Package stopwords is already up-to-date!\n",
      "[nltk_data] Downloading package wordnet to\n",
      "[nltk_data]     C:\\Users\\dell\\AppData\\Roaming\\nltk_data...\n",
      "[nltk_data]   Package wordnet is already up-to-date!\n"
     ]
    },
    {
     "data": {
      "text/plain": [
       "True"
      ]
     },
     "execution_count": 5,
     "metadata": {},
     "output_type": "execute_result"
    }
   ],
   "source": [
    "import pandas as pd\n",
    "import nltk\n",
    "from nltk.stem import WordNetLemmatizer\n",
    "from nltk.corpus import stopwords\n",
    "from nltk.corpus import wordnet\n",
    "nltk.download(\"stopwords\")\n",
    "nltk.download('wordnet')"
   ]
  },
  {
   "cell_type": "markdown",
   "id": "3474a31a",
   "metadata": {},
   "source": [
    "# Reading the Dataset\n"
   ]
  },
  {
   "cell_type": "code",
   "execution_count": 15,
   "id": "bad0b31f",
   "metadata": {},
   "outputs": [
    {
     "data": {
      "text/html": [
       "<div>\n",
       "<style scoped>\n",
       "    .dataframe tbody tr th:only-of-type {\n",
       "        vertical-align: middle;\n",
       "    }\n",
       "\n",
       "    .dataframe tbody tr th {\n",
       "        vertical-align: top;\n",
       "    }\n",
       "\n",
       "    .dataframe thead th {\n",
       "        text-align: right;\n",
       "    }\n",
       "</style>\n",
       "<table border=\"1\" class=\"dataframe\">\n",
       "  <thead>\n",
       "    <tr style=\"text-align: right;\">\n",
       "      <th></th>\n",
       "      <th>id</th>\n",
       "      <th>title</th>\n",
       "      <th>body</th>\n",
       "      <th>answer_count</th>\n",
       "      <th>comment_count</th>\n",
       "      <th>creation_date</th>\n",
       "      <th>last_activity_date</th>\n",
       "      <th>last_editor_display_name</th>\n",
       "      <th>owner_display_name</th>\n",
       "      <th>owner_user_id</th>\n",
       "      <th>post_type_id</th>\n",
       "      <th>score</th>\n",
       "      <th>tags</th>\n",
       "      <th>view_count</th>\n",
       "      <th>accepted_answer_id</th>\n",
       "      <th>favorite_count</th>\n",
       "      <th>last_edit_date</th>\n",
       "      <th>last_editor_user_id</th>\n",
       "      <th>community_owned_date</th>\n",
       "    </tr>\n",
       "  </thead>\n",
       "  <tbody>\n",
       "    <tr>\n",
       "      <th>0</th>\n",
       "      <td>4821394</td>\n",
       "      <td>Serializing a private struct - Can it be done?</td>\n",
       "      <td>&lt;p&gt;I have a public class that contains a priva...</td>\n",
       "      <td>1</td>\n",
       "      <td>0</td>\n",
       "      <td>2011-01-27 20:19:13.563 UTC</td>\n",
       "      <td>2011-01-27 20:21:37.59 UTC</td>\n",
       "      <td></td>\n",
       "      <td></td>\n",
       "      <td>163534.0</td>\n",
       "      <td>1</td>\n",
       "      <td>0</td>\n",
       "      <td>c#|serialization|xml-serialization</td>\n",
       "      <td>296</td>\n",
       "      <td>NaN</td>\n",
       "      <td>NaN</td>\n",
       "      <td>NaN</td>\n",
       "      <td>NaN</td>\n",
       "      <td>NaN</td>\n",
       "    </tr>\n",
       "    <tr>\n",
       "      <th>1</th>\n",
       "      <td>3367882</td>\n",
       "      <td>How do I prevent floated-right content from ov...</td>\n",
       "      <td>&lt;p&gt;I have the following HTML:&lt;/p&gt;\\n\\n&lt;pre&gt;&lt;cod...</td>\n",
       "      <td>2</td>\n",
       "      <td>2</td>\n",
       "      <td>2010-07-30 00:01:50.9 UTC</td>\n",
       "      <td>2012-05-10 14:16:05.143 UTC</td>\n",
       "      <td></td>\n",
       "      <td></td>\n",
       "      <td>1190.0</td>\n",
       "      <td>1</td>\n",
       "      <td>2</td>\n",
       "      <td>css|overflow|css-float|crop</td>\n",
       "      <td>4121</td>\n",
       "      <td>3367943.0</td>\n",
       "      <td>0.0</td>\n",
       "      <td>2012-05-10 14:16:05.143 UTC</td>\n",
       "      <td>44390.0</td>\n",
       "      <td>NaN</td>\n",
       "    </tr>\n",
       "    <tr>\n",
       "      <th>2</th>\n",
       "      <td>31682135</td>\n",
       "      <td>Gradle command line</td>\n",
       "      <td>&lt;p&gt;I'm trying to run a shell script with gradl...</td>\n",
       "      <td>0</td>\n",
       "      <td>2</td>\n",
       "      <td>2015-07-28 16:30:18.28 UTC</td>\n",
       "      <td>2015-07-28 16:32:15.117 UTC</td>\n",
       "      <td></td>\n",
       "      <td></td>\n",
       "      <td>1299158.0</td>\n",
       "      <td>1</td>\n",
       "      <td>1</td>\n",
       "      <td>bash|shell|android-studio|gradle</td>\n",
       "      <td>259</td>\n",
       "      <td>NaN</td>\n",
       "      <td>NaN</td>\n",
       "      <td>NaN</td>\n",
       "      <td>NaN</td>\n",
       "      <td>NaN</td>\n",
       "    </tr>\n",
       "    <tr>\n",
       "      <th>3</th>\n",
       "      <td>20218536</td>\n",
       "      <td>Loop variable as parameter in asynchronous fun...</td>\n",
       "      <td>&lt;p&gt;I have an object with the following form.&lt;/...</td>\n",
       "      <td>1</td>\n",
       "      <td>1</td>\n",
       "      <td>2013-11-26 13:34:49.957 UTC</td>\n",
       "      <td>2013-11-26 15:07:50.8 UTC</td>\n",
       "      <td></td>\n",
       "      <td></td>\n",
       "      <td>642751.0</td>\n",
       "      <td>1</td>\n",
       "      <td>0</td>\n",
       "      <td>javascript|asynchronous|foreach|async.js</td>\n",
       "      <td>120</td>\n",
       "      <td>NaN</td>\n",
       "      <td>1.0</td>\n",
       "      <td>2013-11-26 15:02:47.993 UTC</td>\n",
       "      <td>1333873.0</td>\n",
       "      <td>NaN</td>\n",
       "    </tr>\n",
       "    <tr>\n",
       "      <th>4</th>\n",
       "      <td>19941459</td>\n",
       "      <td>Canot get the href value</td>\n",
       "      <td>&lt;p&gt;Hi I need to valid the href is empty or not...</td>\n",
       "      <td>5</td>\n",
       "      <td>1</td>\n",
       "      <td>2013-11-12 22:41:36.11 UTC</td>\n",
       "      <td>2013-11-12 23:48:34.67 UTC</td>\n",
       "      <td></td>\n",
       "      <td></td>\n",
       "      <td>819774.0</td>\n",
       "      <td>1</td>\n",
       "      <td>0</td>\n",
       "      <td>javascript</td>\n",
       "      <td>97</td>\n",
       "      <td>19941620.0</td>\n",
       "      <td>NaN</td>\n",
       "      <td>2013-11-12 22:43:42.97 UTC</td>\n",
       "      <td>21886.0</td>\n",
       "      <td>NaN</td>\n",
       "    </tr>\n",
       "    <tr>\n",
       "      <th>...</th>\n",
       "      <td>...</td>\n",
       "      <td>...</td>\n",
       "      <td>...</td>\n",
       "      <td>...</td>\n",
       "      <td>...</td>\n",
       "      <td>...</td>\n",
       "      <td>...</td>\n",
       "      <td>...</td>\n",
       "      <td>...</td>\n",
       "      <td>...</td>\n",
       "      <td>...</td>\n",
       "      <td>...</td>\n",
       "      <td>...</td>\n",
       "      <td>...</td>\n",
       "      <td>...</td>\n",
       "      <td>...</td>\n",
       "      <td>...</td>\n",
       "      <td>...</td>\n",
       "      <td>...</td>\n",
       "    </tr>\n",
       "    <tr>\n",
       "      <th>19995</th>\n",
       "      <td>45643057</td>\n",
       "      <td>C# Telnet Error (Using CMD)</td>\n",
       "      <td>&lt;p&gt;At first I want to say that my English is n...</td>\n",
       "      <td>0</td>\n",
       "      <td>1</td>\n",
       "      <td>2017-08-11 20:10:22.387 UTC</td>\n",
       "      <td>2017-08-11 22:00:08.853 UTC</td>\n",
       "      <td></td>\n",
       "      <td></td>\n",
       "      <td>8450318.0</td>\n",
       "      <td>1</td>\n",
       "      <td>0</td>\n",
       "      <td>c#|winforms|cmd|telnet</td>\n",
       "      <td>28</td>\n",
       "      <td>NaN</td>\n",
       "      <td>NaN</td>\n",
       "      <td>2017-08-11 22:00:08.853 UTC</td>\n",
       "      <td>5359302.0</td>\n",
       "      <td>NaN</td>\n",
       "    </tr>\n",
       "    <tr>\n",
       "      <th>19996</th>\n",
       "      <td>18079413</td>\n",
       "      <td>UI Control for presenting data base in the iph...</td>\n",
       "      <td>&lt;p&gt;I'm developing an application for CRM propo...</td>\n",
       "      <td>0</td>\n",
       "      <td>0</td>\n",
       "      <td>2013-08-06 11:51:37.463 UTC</td>\n",
       "      <td>2013-08-06 11:51:37.463 UTC</td>\n",
       "      <td></td>\n",
       "      <td></td>\n",
       "      <td>1939409.0</td>\n",
       "      <td>1</td>\n",
       "      <td>1</td>\n",
       "      <td>android|ios|ipad|xamarin.ios|xamarin.android</td>\n",
       "      <td>80</td>\n",
       "      <td>NaN</td>\n",
       "      <td>NaN</td>\n",
       "      <td>NaN</td>\n",
       "      <td>NaN</td>\n",
       "      <td>NaN</td>\n",
       "    </tr>\n",
       "    <tr>\n",
       "      <th>19997</th>\n",
       "      <td>39977022</td>\n",
       "      <td>How to make atom-typescript write config out o...</td>\n",
       "      <td>&lt;p&gt;I'm working in a team of 3 devs and we're w...</td>\n",
       "      <td>0</td>\n",
       "      <td>0</td>\n",
       "      <td>2016-10-11 12:14:43.26 UTC</td>\n",
       "      <td>2017-01-18 18:41:16.67 UTC</td>\n",
       "      <td></td>\n",
       "      <td></td>\n",
       "      <td>4102561.0</td>\n",
       "      <td>1</td>\n",
       "      <td>1</td>\n",
       "      <td>typescript|atom-editor</td>\n",
       "      <td>18</td>\n",
       "      <td>NaN</td>\n",
       "      <td>NaN</td>\n",
       "      <td>2017-01-18 18:41:16.67 UTC</td>\n",
       "      <td>2449905.0</td>\n",
       "      <td>NaN</td>\n",
       "    </tr>\n",
       "    <tr>\n",
       "      <th>19998</th>\n",
       "      <td>33328431</td>\n",
       "      <td>understanding for in angular loop in ng-repeat</td>\n",
       "      <td>&lt;p&gt;I was just going through this example onlin...</td>\n",
       "      <td>3</td>\n",
       "      <td>3</td>\n",
       "      <td>2015-10-25 10:03:00.587 UTC</td>\n",
       "      <td>2015-10-25 10:30:08.807 UTC</td>\n",
       "      <td></td>\n",
       "      <td></td>\n",
       "      <td>4195815.0</td>\n",
       "      <td>1</td>\n",
       "      <td>1</td>\n",
       "      <td>angularjs</td>\n",
       "      <td>164</td>\n",
       "      <td>NaN</td>\n",
       "      <td>NaN</td>\n",
       "      <td>NaN</td>\n",
       "      <td>NaN</td>\n",
       "      <td>NaN</td>\n",
       "    </tr>\n",
       "    <tr>\n",
       "      <th>19999</th>\n",
       "      <td>40875741</td>\n",
       "      <td>QListWidget drag externally without item removal?</td>\n",
       "      <td>&lt;p&gt;Versions: Qt 4.8.5, PySide 1.2.2, Python 2....</td>\n",
       "      <td>0</td>\n",
       "      <td>2</td>\n",
       "      <td>2016-11-29 21:05:32.677 UTC</td>\n",
       "      <td>2016-12-01 23:44:18.007 UTC</td>\n",
       "      <td></td>\n",
       "      <td></td>\n",
       "      <td>3689147.0</td>\n",
       "      <td>1</td>\n",
       "      <td>3</td>\n",
       "      <td>python|qt|drag-and-drop|pyqt|pyside</td>\n",
       "      <td>72</td>\n",
       "      <td>NaN</td>\n",
       "      <td>NaN</td>\n",
       "      <td>2016-12-01 23:44:18.007 UTC</td>\n",
       "      <td>3689147.0</td>\n",
       "      <td>NaN</td>\n",
       "    </tr>\n",
       "  </tbody>\n",
       "</table>\n",
       "<p>20000 rows × 19 columns</p>\n",
       "</div>"
      ],
      "text/plain": [
       "             id                                              title  \\\n",
       "0       4821394     Serializing a private struct - Can it be done?   \n",
       "1       3367882  How do I prevent floated-right content from ov...   \n",
       "2      31682135                                Gradle command line   \n",
       "3      20218536  Loop variable as parameter in asynchronous fun...   \n",
       "4      19941459                           Canot get the href value   \n",
       "...         ...                                                ...   \n",
       "19995  45643057                        C# Telnet Error (Using CMD)   \n",
       "19996  18079413  UI Control for presenting data base in the iph...   \n",
       "19997  39977022  How to make atom-typescript write config out o...   \n",
       "19998  33328431     understanding for in angular loop in ng-repeat   \n",
       "19999  40875741  QListWidget drag externally without item removal?   \n",
       "\n",
       "                                                    body  answer_count  \\\n",
       "0      <p>I have a public class that contains a priva...             1   \n",
       "1      <p>I have the following HTML:</p>\\n\\n<pre><cod...             2   \n",
       "2      <p>I'm trying to run a shell script with gradl...             0   \n",
       "3      <p>I have an object with the following form.</...             1   \n",
       "4      <p>Hi I need to valid the href is empty or not...             5   \n",
       "...                                                  ...           ...   \n",
       "19995  <p>At first I want to say that my English is n...             0   \n",
       "19996  <p>I'm developing an application for CRM propo...             0   \n",
       "19997  <p>I'm working in a team of 3 devs and we're w...             0   \n",
       "19998  <p>I was just going through this example onlin...             3   \n",
       "19999  <p>Versions: Qt 4.8.5, PySide 1.2.2, Python 2....             0   \n",
       "\n",
       "       comment_count                creation_date  \\\n",
       "0                  0  2011-01-27 20:19:13.563 UTC   \n",
       "1                  2    2010-07-30 00:01:50.9 UTC   \n",
       "2                  2   2015-07-28 16:30:18.28 UTC   \n",
       "3                  1  2013-11-26 13:34:49.957 UTC   \n",
       "4                  1   2013-11-12 22:41:36.11 UTC   \n",
       "...              ...                          ...   \n",
       "19995              1  2017-08-11 20:10:22.387 UTC   \n",
       "19996              0  2013-08-06 11:51:37.463 UTC   \n",
       "19997              0   2016-10-11 12:14:43.26 UTC   \n",
       "19998              3  2015-10-25 10:03:00.587 UTC   \n",
       "19999              2  2016-11-29 21:05:32.677 UTC   \n",
       "\n",
       "                last_activity_date last_editor_display_name  \\\n",
       "0       2011-01-27 20:21:37.59 UTC                            \n",
       "1      2012-05-10 14:16:05.143 UTC                            \n",
       "2      2015-07-28 16:32:15.117 UTC                            \n",
       "3        2013-11-26 15:07:50.8 UTC                            \n",
       "4       2013-11-12 23:48:34.67 UTC                            \n",
       "...                            ...                      ...   \n",
       "19995  2017-08-11 22:00:08.853 UTC                            \n",
       "19996  2013-08-06 11:51:37.463 UTC                            \n",
       "19997   2017-01-18 18:41:16.67 UTC                            \n",
       "19998  2015-10-25 10:30:08.807 UTC                            \n",
       "19999  2016-12-01 23:44:18.007 UTC                            \n",
       "\n",
       "      owner_display_name  owner_user_id  post_type_id  score  \\\n",
       "0                              163534.0             1      0   \n",
       "1                                1190.0             1      2   \n",
       "2                             1299158.0             1      1   \n",
       "3                              642751.0             1      0   \n",
       "4                              819774.0             1      0   \n",
       "...                  ...            ...           ...    ...   \n",
       "19995                         8450318.0             1      0   \n",
       "19996                         1939409.0             1      1   \n",
       "19997                         4102561.0             1      1   \n",
       "19998                         4195815.0             1      1   \n",
       "19999                         3689147.0             1      3   \n",
       "\n",
       "                                               tags  view_count  \\\n",
       "0                c#|serialization|xml-serialization         296   \n",
       "1                       css|overflow|css-float|crop        4121   \n",
       "2                  bash|shell|android-studio|gradle         259   \n",
       "3          javascript|asynchronous|foreach|async.js         120   \n",
       "4                                        javascript          97   \n",
       "...                                             ...         ...   \n",
       "19995                        c#|winforms|cmd|telnet          28   \n",
       "19996  android|ios|ipad|xamarin.ios|xamarin.android          80   \n",
       "19997                        typescript|atom-editor          18   \n",
       "19998                                     angularjs         164   \n",
       "19999           python|qt|drag-and-drop|pyqt|pyside          72   \n",
       "\n",
       "       accepted_answer_id  favorite_count               last_edit_date  \\\n",
       "0                     NaN             NaN                          NaN   \n",
       "1               3367943.0             0.0  2012-05-10 14:16:05.143 UTC   \n",
       "2                     NaN             NaN                          NaN   \n",
       "3                     NaN             1.0  2013-11-26 15:02:47.993 UTC   \n",
       "4              19941620.0             NaN   2013-11-12 22:43:42.97 UTC   \n",
       "...                   ...             ...                          ...   \n",
       "19995                 NaN             NaN  2017-08-11 22:00:08.853 UTC   \n",
       "19996                 NaN             NaN                          NaN   \n",
       "19997                 NaN             NaN   2017-01-18 18:41:16.67 UTC   \n",
       "19998                 NaN             NaN                          NaN   \n",
       "19999                 NaN             NaN  2016-12-01 23:44:18.007 UTC   \n",
       "\n",
       "       last_editor_user_id community_owned_date  \n",
       "0                      NaN                  NaN  \n",
       "1                  44390.0                  NaN  \n",
       "2                      NaN                  NaN  \n",
       "3                1333873.0                  NaN  \n",
       "4                  21886.0                  NaN  \n",
       "...                    ...                  ...  \n",
       "19995            5359302.0                  NaN  \n",
       "19996                  NaN                  NaN  \n",
       "19997            2449905.0                  NaN  \n",
       "19998                  NaN                  NaN  \n",
       "19999            3689147.0                  NaN  \n",
       "\n",
       "[20000 rows x 19 columns]"
      ]
     },
     "execution_count": 15,
     "metadata": {},
     "output_type": "execute_result"
    }
   ],
   "source": [
    "df=pd.read_json(\"stackoverflow-data-idf.json\",lines=True)\n",
    " \n",
    "    \n",
    "df"
   ]
  },
  {
   "cell_type": "markdown",
   "id": "94aba2d8",
   "metadata": {},
   "source": [
    "# Preprocessing"
   ]
  },
  {
   "cell_type": "code",
   "execution_count": 16,
   "id": "dd4b90d4",
   "metadata": {},
   "outputs": [],
   "source": [
    "import re\n",
    "def prepareData( data ):\n",
    "    data['Text'] = data['title'] + data['body']      # Extracting the title and the body only as those are what we only need\n",
    "    corpus=[]\n",
    "    for i in range (0,len(data)):\n",
    "        doc=re.sub(\"</?.*?>\",\" <> \",data['Text'][i])  #Removing tags\n",
    "        doc = re.sub('[^a-zA-Z]',' ',doc)         #Removing nonalphabetic charachters\n",
    "        doc =re.sub(r\"http\\S+\", \"\",doc)          #Removing Urls\n",
    "        doc=doc.split()\n",
    "        lemm=WordNetLemmatizer()        \n",
    "        doc=[lemm.lemmatize(word) for word in doc]   # Doint lemmatization on the data\n",
    "        doc= ' '.join(doc)\n",
    "        corpus.append(doc)\n",
    "    return corpus\n",
    "    \n",
    "corpus=prepareData(df)\n",
    "    \n",
    " "
   ]
  },
  {
   "cell_type": "code",
   "execution_count": 17,
   "id": "015e9227",
   "metadata": {},
   "outputs": [],
   "source": [
    "from sklearn.feature_extraction.text import CountVectorizer\n",
    "stopWords=stopwords.words('english')\n",
    "\n",
    "#create a vocabulary of words, \n",
    "#ignore words that appear in 85% of documents, \n",
    "#eliminate stop words\n",
    "cv=CountVectorizer(max_df=0.85,stop_words=stopWords)\n",
    "word_count_vector=cv.fit_transform(corpus)"
   ]
  },
  {
   "cell_type": "code",
   "execution_count": 43,
   "id": "afb2dfbd",
   "metadata": {},
   "outputs": [
    {
     "data": {
      "text/plain": [
       "['serializing',\n",
       " 'private',\n",
       " 'struct',\n",
       " 'done',\n",
       " 'public',\n",
       " 'class',\n",
       " 'contains',\n",
       " 'property',\n",
       " 'mostly',\n",
       " 'string']"
      ]
     },
     "execution_count": 43,
     "metadata": {},
     "output_type": "execute_result"
    }
   ],
   "source": [
    "\n",
    "list(cv.vocabulary_.keys())[:10]\n"
   ]
  },
  {
   "cell_type": "code",
   "execution_count": 18,
   "id": "1662e31b",
   "metadata": {},
   "outputs": [
    {
     "data": {
      "text/plain": [
       "['adjustletterspacingtofitwidth',\n",
       " 'adjustment',\n",
       " 'adjustresize',\n",
       " 'adjusts',\n",
       " 'adjustsize',\n",
       " 'adjusttokenprivileges',\n",
       " 'adjusttypingstatus',\n",
       " 'adjustviewbounds',\n",
       " 'adk',\n",
       " 'adksetup',\n",
       " 'adl',\n",
       " 'adlistener',\n",
       " 'adlockpessimistic',\n",
       " 'adlogo',\n",
       " 'adm']"
      ]
     },
     "execution_count": 18,
     "metadata": {},
     "output_type": "execute_result"
    }
   ],
   "source": [
    "list(cv.get_feature_names())[2000:2015]\n"
   ]
  },
  {
   "cell_type": "code",
   "execution_count": 19,
   "id": "49a4a14e",
   "metadata": {},
   "outputs": [
    {
     "data": {
      "text/plain": [
       "TfidfTransformer()"
      ]
     },
     "execution_count": 19,
     "metadata": {},
     "output_type": "execute_result"
    }
   ],
   "source": [
    "from sklearn.feature_extraction.text import TfidfTransformer\n",
    "\n",
    "tfidf_transformer=TfidfTransformer(smooth_idf=True,use_idf=True)\n",
    "tfidf_transformer.fit(word_count_vector)\n"
   ]
  },
  {
   "cell_type": "code",
   "execution_count": 20,
   "id": "8c9c8e31",
   "metadata": {},
   "outputs": [],
   "source": [
    "df_test=pd.read_json(\"stackoverflow-test.json\",lines=True)\n",
    "\n",
    "\n",
    "# get test docs into a list\n",
    "docs_test=prepareData(df_test)\n",
    "docs_title=df_test['title'].tolist()\n",
    "docs_body=df_test['body'].tolist()"
   ]
  },
  {
   "cell_type": "code",
   "execution_count": 21,
   "id": "51d166f4",
   "metadata": {},
   "outputs": [],
   "source": [
    "def sort_coo(coo_matrix):\n",
    "    tuples = zip(coo_matrix.col, coo_matrix.data)\n",
    "    return sorted(tuples, key=lambda x: (x[1], x[0]), reverse=True)\n",
    "\n",
    "def extract_topn_from_vector(feature_names, sorted_items, topn=10):\n",
    "    \"\"\"get the feature names and tf-idf score of top n items\"\"\"\n",
    "    \n",
    "    #use only topn items from vector\n",
    "    sorted_items = sorted_items[:topn]\n",
    "\n",
    "    score_vals = []\n",
    "    feature_vals = []\n",
    "\n",
    "    for idx, score in sorted_items:\n",
    "        fname = feature_names[idx]\n",
    "        \n",
    "        #keep track of feature name and its corresponding score\n",
    "        score_vals.append(round(score, 3))\n",
    "        feature_vals.append(feature_names[idx])\n",
    "\n",
    "    #create a tuples of feature,score\n",
    "    #results = zip(feature_vals,score_vals)\n",
    "    results= {}\n",
    "    for idx in range(len(feature_vals)):\n",
    "        results[feature_vals[idx]]=score_vals[idx]\n",
    "    \n",
    "    return results"
   ]
  },
  {
   "cell_type": "code",
   "execution_count": 22,
   "id": "6d7d0956",
   "metadata": {},
   "outputs": [],
   "source": [
    "def get_keywords(idx):\n",
    "\n",
    "    #generate tf-idf for the given document\n",
    "    tf_idf_vector=tfidf_transformer.transform(cv.transform([docs_test[idx]]))\n",
    "\n",
    "    #sort the tf-idf vectors by descending order of scores\n",
    "    sorted_items=sort_coo(tf_idf_vector.tocoo())\n",
    "\n",
    "    #extract only the top n; n here is 10\n",
    "    keywords=extract_topn_from_vector(feature_names,sorted_items,10)\n",
    "    \n",
    "    return keywords\n",
    "\n",
    "def print_results(idx,keywords):\n",
    "    # now print the results\n",
    "    print(\"\\n=====Title=====\")\n",
    "    print(docs_title[idx])\n",
    "    print(\"\\n=====Body=====\")\n",
    "    print(docs_body[idx])\n",
    "    print(\"\\n===Keywords===\")\n",
    "    for k in keywords:\n",
    "        print(k,keywords[k])\n"
   ]
  },
  {
   "cell_type": "code",
   "execution_count": 23,
   "id": "41696755",
   "metadata": {},
   "outputs": [
    {
     "name": "stdout",
     "output_type": "stream",
     "text": [
      "\n",
      "=====Title=====\n",
      "change CSS in external URL stylesheet - Wordpress\n",
      "\n",
      "=====Body=====\n",
      "<p>I am using a wordpress rating plugin that connects to an external URL stylesheet in order to display the ratings. </p>\n",
      "\n",
      "<p>So I'd like to change the font-size of the stars that are displaying on my site.</p>\n",
      "\n",
      "<p>I can see that the look of the font is defined in the following stylesheet and url: <code>https://publ.ratingz.com/app/FF897e.app.css</code> </p>\n",
      "\n",
      "<p>The star font is using class <code>.rate-me-ratingz</code></p>\n",
      "\n",
      "<p>I've been trying to change the font size using this class together with <code>!important</code> tag, but I guess that will not work, right?</p>\n",
      "\n",
      "<p>Is there any way to edit and customise this external stylesheet in this case?</p>\n",
      "\n",
      "===Keywords===\n",
      "stylesheet 0.451\n",
      "font 0.38\n",
      "external 0.31\n",
      "star 0.278\n",
      "rating 0.273\n",
      "wordpress 0.217\n",
      "url 0.202\n",
      "change 0.189\n",
      "customise 0.184\n",
      "size 0.144\n"
     ]
    }
   ],
   "source": [
    "feature_names=cv.get_feature_names()\n",
    "idx=5\n",
    "keywords=get_keywords(idx)\n",
    "print_results(idx,keywords)"
   ]
  },
  {
   "cell_type": "code",
   "execution_count": 38,
   "id": "56e6a9c3",
   "metadata": {},
   "outputs": [
    {
     "name": "stdout",
     "output_type": "stream",
     "text": [
      "\n",
      "=====Title=====\n",
      "How to display a viewController from an extended iOS module\n",
      "\n",
      "=====Body=====\n",
      "<p>I am creating an Module in Titanium which is extended in iOS. In that module I am creating a viewController and I want to show it on the screen when i called that module.\n",
      "Not able to figure it out.. What will be right approach for it.</p>\n",
      "\n",
      "===Keywords===\n",
      "module 0.537\n",
      "extended 0.437\n",
      "viewcontroller 0.401\n",
      "ios 0.312\n",
      "creating 0.264\n",
      "titanium 0.254\n",
      "approach 0.148\n",
      "screen 0.139\n",
      "figure 0.137\n",
      "called 0.123\n"
     ]
    }
   ],
   "source": [
    "idx=50\n",
    "keywords=get_keywords(idx)\n",
    "print_results(idx,keywords)"
   ]
  },
  {
   "cell_type": "code",
   "execution_count": 30,
   "id": "19d8db77",
   "metadata": {},
   "outputs": [],
   "source": [
    "tf_idf_vector=tfidf_transformer.transform(cv.transform(docs_test))\n",
    "\n",
    "results=[]\n",
    "for i in range(tf_idf_vector.shape[0]):\n",
    "    \n",
    "    # get vector for a single document\n",
    "    curr_vector=tf_idf_vector[i]\n",
    "    \n",
    "    #sort the tf-idf vector by descending order of scores\n",
    "    sorted_items=sort_coo(curr_vector.tocoo())\n",
    "\n",
    "    #extract only the top n; n here is 10\n",
    "    keywords=extract_topn_from_vector(feature_names,sorted_items,10)\n",
    "    \n",
    "    \n",
    "    results.append(keywords)\n",
    "\n",
    "df=pd.DataFrame(zip(docs,results),columns=['doc','keywords'])"
   ]
  },
  {
   "cell_type": "code",
   "execution_count": 31,
   "id": "4cc5e037",
   "metadata": {},
   "outputs": [
    {
     "data": {
      "text/html": [
       "<div>\n",
       "<style scoped>\n",
       "    .dataframe tbody tr th:only-of-type {\n",
       "        vertical-align: middle;\n",
       "    }\n",
       "\n",
       "    .dataframe tbody tr th {\n",
       "        vertical-align: top;\n",
       "    }\n",
       "\n",
       "    .dataframe thead th {\n",
       "        text-align: right;\n",
       "    }\n",
       "</style>\n",
       "<table border=\"1\" class=\"dataframe\">\n",
       "  <thead>\n",
       "    <tr style=\"text-align: right;\">\n",
       "      <th></th>\n",
       "      <th>doc</th>\n",
       "      <th>keywords</th>\n",
       "    </tr>\n",
       "  </thead>\n",
       "  <tbody>\n",
       "    <tr>\n",
       "      <th>0</th>\n",
       "      <td>serializing a private struct can it be done i ...</td>\n",
       "      <td>{'eclipse': 0.49, 'maven': 0.451, 'war': 0.393...</td>\n",
       "    </tr>\n",
       "    <tr>\n",
       "      <th>1</th>\n",
       "      <td>how do i prevent floated right content from ov...</td>\n",
       "      <td>{'evaluate': 0.474, 'content': 0.403, 'console...</td>\n",
       "    </tr>\n",
       "    <tr>\n",
       "      <th>2</th>\n",
       "      <td>gradle command line i m trying to run a shell ...</td>\n",
       "      <td>{'appdomain': 0.41, 'dynamic': 0.384, 'perform...</td>\n",
       "    </tr>\n",
       "    <tr>\n",
       "      <th>3</th>\n",
       "      <td>loop variable as parameter in asynchronous fun...</td>\n",
       "      <td>{'background': 0.435, 'image': 0.405, 'jpg': 0...</td>\n",
       "    </tr>\n",
       "    <tr>\n",
       "      <th>4</th>\n",
       "      <td>canot get the href value hi i need to valid th...</td>\n",
       "      <td>{'uri': 0.371, 'bitmap': 0.319, 'intent': 0.30...</td>\n",
       "    </tr>\n",
       "    <tr>\n",
       "      <th>...</th>\n",
       "      <td>...</td>\n",
       "      <td>...</td>\n",
       "    </tr>\n",
       "    <tr>\n",
       "      <th>495</th>\n",
       "      <td>how to unbind click and click submit button in...</td>\n",
       "      <td>{'delphi': 0.699, 'compatible': 0.31, 'win': 0...</td>\n",
       "    </tr>\n",
       "    <tr>\n",
       "      <th>496</th>\n",
       "      <td>swaggerui auth redirect swaggeruiauth of null ...</td>\n",
       "      <td>{'node': 0.508, 'null': 0.324, 'selectsingleno...</td>\n",
       "    </tr>\n",
       "    <tr>\n",
       "      <th>497</th>\n",
       "      <td>ssrs value display error for ssrs conditional ...</td>\n",
       "      <td>{'logo': 0.529, 'step': 0.318, 'triangle': 0.3...</td>\n",
       "    </tr>\n",
       "    <tr>\n",
       "      <th>498</th>\n",
       "      <td>accessing and changing a class instance from a...</td>\n",
       "      <td>{'length': 0.402, 'ev': 0.391, 'introduce': 0....</td>\n",
       "    </tr>\n",
       "    <tr>\n",
       "      <th>499</th>\n",
       "      <td>how to print the current time in the format da...</td>\n",
       "      <td>{'localhost': 0.457, 'oauth': 0.371, 'sdk': 0....</td>\n",
       "    </tr>\n",
       "  </tbody>\n",
       "</table>\n",
       "<p>500 rows × 2 columns</p>\n",
       "</div>"
      ],
      "text/plain": [
       "                                                   doc  \\\n",
       "0    serializing a private struct can it be done i ...   \n",
       "1    how do i prevent floated right content from ov...   \n",
       "2    gradle command line i m trying to run a shell ...   \n",
       "3    loop variable as parameter in asynchronous fun...   \n",
       "4    canot get the href value hi i need to valid th...   \n",
       "..                                                 ...   \n",
       "495  how to unbind click and click submit button in...   \n",
       "496  swaggerui auth redirect swaggeruiauth of null ...   \n",
       "497  ssrs value display error for ssrs conditional ...   \n",
       "498  accessing and changing a class instance from a...   \n",
       "499  how to print the current time in the format da...   \n",
       "\n",
       "                                              keywords  \n",
       "0    {'eclipse': 0.49, 'maven': 0.451, 'war': 0.393...  \n",
       "1    {'evaluate': 0.474, 'content': 0.403, 'console...  \n",
       "2    {'appdomain': 0.41, 'dynamic': 0.384, 'perform...  \n",
       "3    {'background': 0.435, 'image': 0.405, 'jpg': 0...  \n",
       "4    {'uri': 0.371, 'bitmap': 0.319, 'intent': 0.30...  \n",
       "..                                                 ...  \n",
       "495  {'delphi': 0.699, 'compatible': 0.31, 'win': 0...  \n",
       "496  {'node': 0.508, 'null': 0.324, 'selectsingleno...  \n",
       "497  {'logo': 0.529, 'step': 0.318, 'triangle': 0.3...  \n",
       "498  {'length': 0.402, 'ev': 0.391, 'introduce': 0....  \n",
       "499  {'localhost': 0.457, 'oauth': 0.371, 'sdk': 0....  \n",
       "\n",
       "[500 rows x 2 columns]"
      ]
     },
     "execution_count": 31,
     "metadata": {},
     "output_type": "execute_result"
    }
   ],
   "source": [
    "df"
   ]
  },
  {
   "cell_type": "code",
   "execution_count": 2,
   "id": "08f12c96",
   "metadata": {},
   "outputs": [
    {
     "data": {
      "application/vnd.jupyter.widget-view+json": {
       "model_id": "f1bfc7c2fe314334a274ea63e383ea2e",
       "version_major": 2,
       "version_minor": 0
      },
      "text/plain": [
       "Downloading (…)e9125/.gitattributes:   0%|          | 0.00/1.18k [00:00<?, ?B/s]"
      ]
     },
     "metadata": {},
     "output_type": "display_data"
    },
    {
     "data": {
      "application/vnd.jupyter.widget-view+json": {
       "model_id": "e78eb732625448eab8a013aa3db1dda6",
       "version_major": 2,
       "version_minor": 0
      },
      "text/plain": [
       "Downloading (…)_Pooling/config.json:   0%|          | 0.00/190 [00:00<?, ?B/s]"
      ]
     },
     "metadata": {},
     "output_type": "display_data"
    },
    {
     "data": {
      "application/vnd.jupyter.widget-view+json": {
       "model_id": "91e3621433d6408fb1570883f5ad1a17",
       "version_major": 2,
       "version_minor": 0
      },
      "text/plain": [
       "Downloading (…)7e55de9125/README.md:   0%|          | 0.00/10.6k [00:00<?, ?B/s]"
      ]
     },
     "metadata": {},
     "output_type": "display_data"
    },
    {
     "data": {
      "application/vnd.jupyter.widget-view+json": {
       "model_id": "2b02e104ff144e97ac2ed32b39a67310",
       "version_major": 2,
       "version_minor": 0
      },
      "text/plain": [
       "Downloading (…)55de9125/config.json:   0%|          | 0.00/612 [00:00<?, ?B/s]"
      ]
     },
     "metadata": {},
     "output_type": "display_data"
    },
    {
     "data": {
      "application/vnd.jupyter.widget-view+json": {
       "model_id": "ff3ba443bc0b44488c141ecb57446d88",
       "version_major": 2,
       "version_minor": 0
      },
      "text/plain": [
       "Downloading (…)ce_transformers.json:   0%|          | 0.00/116 [00:00<?, ?B/s]"
      ]
     },
     "metadata": {},
     "output_type": "display_data"
    },
    {
     "data": {
      "application/vnd.jupyter.widget-view+json": {
       "model_id": "37bcacd4674948929746db6bf6008c81",
       "version_major": 2,
       "version_minor": 0
      },
      "text/plain": [
       "Downloading (…)125/data_config.json:   0%|          | 0.00/39.3k [00:00<?, ?B/s]"
      ]
     },
     "metadata": {},
     "output_type": "display_data"
    },
    {
     "data": {
      "application/vnd.jupyter.widget-view+json": {
       "model_id": "9ffb0d30f05f410b883720820303d199",
       "version_major": 2,
       "version_minor": 0
      },
      "text/plain": [
       "Downloading pytorch_model.bin:   0%|          | 0.00/90.9M [00:00<?, ?B/s]"
      ]
     },
     "metadata": {},
     "output_type": "display_data"
    },
    {
     "data": {
      "application/vnd.jupyter.widget-view+json": {
       "model_id": "e790d619cd634c5fa513c7c49d70262a",
       "version_major": 2,
       "version_minor": 0
      },
      "text/plain": [
       "Downloading (…)nce_bert_config.json:   0%|          | 0.00/53.0 [00:00<?, ?B/s]"
      ]
     },
     "metadata": {},
     "output_type": "display_data"
    },
    {
     "data": {
      "application/vnd.jupyter.widget-view+json": {
       "model_id": "837d63838c8f4c7a93821b9d6b832b82",
       "version_major": 2,
       "version_minor": 0
      },
      "text/plain": [
       "Downloading (…)cial_tokens_map.json:   0%|          | 0.00/112 [00:00<?, ?B/s]"
      ]
     },
     "metadata": {},
     "output_type": "display_data"
    },
    {
     "data": {
      "application/vnd.jupyter.widget-view+json": {
       "model_id": "974d38f3429743a3bb68150f5536b5b2",
       "version_major": 2,
       "version_minor": 0
      },
      "text/plain": [
       "Downloading (…)e9125/tokenizer.json:   0%|          | 0.00/466k [00:00<?, ?B/s]"
      ]
     },
     "metadata": {},
     "output_type": "display_data"
    },
    {
     "data": {
      "application/vnd.jupyter.widget-view+json": {
       "model_id": "12799d377a144e5d8ad3bfac5d7eda4d",
       "version_major": 2,
       "version_minor": 0
      },
      "text/plain": [
       "Downloading (…)okenizer_config.json:   0%|          | 0.00/350 [00:00<?, ?B/s]"
      ]
     },
     "metadata": {},
     "output_type": "display_data"
    },
    {
     "data": {
      "application/vnd.jupyter.widget-view+json": {
       "model_id": "a2a89542266340deaf26392ff72c8580",
       "version_major": 2,
       "version_minor": 0
      },
      "text/plain": [
       "Downloading (…)9125/train_script.py:   0%|          | 0.00/13.2k [00:00<?, ?B/s]"
      ]
     },
     "metadata": {},
     "output_type": "display_data"
    },
    {
     "data": {
      "application/vnd.jupyter.widget-view+json": {
       "model_id": "c5d05c5d627444169ee54140d890236a",
       "version_major": 2,
       "version_minor": 0
      },
      "text/plain": [
       "Downloading (…)7e55de9125/vocab.txt:   0%|          | 0.00/232k [00:00<?, ?B/s]"
      ]
     },
     "metadata": {},
     "output_type": "display_data"
    },
    {
     "data": {
      "application/vnd.jupyter.widget-view+json": {
       "model_id": "1d34b4a5519f41099a427821f8b41c83",
       "version_major": 2,
       "version_minor": 0
      },
      "text/plain": [
       "Downloading (…)5de9125/modules.json:   0%|          | 0.00/349 [00:00<?, ?B/s]"
      ]
     },
     "metadata": {},
     "output_type": "display_data"
    }
   ],
   "source": [
    "from keybert import KeyBERT\n",
    "\n",
    "\n",
    "kw_model = KeyBERT()"
   ]
  },
  {
   "cell_type": "code",
   "execution_count": 29,
   "id": "fcfea359",
   "metadata": {},
   "outputs": [
    {
     "data": {
      "text/plain": [
       "[('way', 0.0937),\n",
       " ('important', 0.1023),\n",
       " ('url', 0.1486),\n",
       " ('publ', 0.1513),\n",
       " ('star', 0.1738),\n",
       " ('external', 0.1816),\n",
       " ('rate', 0.2769),\n",
       " ('customise', 0.3246),\n",
       " ('font', 0.3279),\n",
       " ('stylesheet', 0.4175)]"
      ]
     },
     "execution_count": 29,
     "metadata": {},
     "output_type": "execute_result"
    }
   ],
   "source": [
    "kw_model.extract_keywords(docs_test[5], keyphrase_ngram_range=(1, 1), stop_words='english',\n",
    "                              use_maxsum=True, nr_candidates=20, top_n=10)"
   ]
  },
  {
   "cell_type": "code",
   "execution_count": 28,
   "id": "219a86ca",
   "metadata": {},
   "outputs": [
    {
     "data": {
      "text/plain": [
       "'change CSS in external URL stylesheet Wordpress I am using a wordpress rating plugin that connects to an external URL stylesheet in order to display the rating So I d like to change the font size of the star that are displaying on my site I can see that the look of the font is defined in the following stylesheet and url publ ratingz com app FF e app cs The star font is using class rate me ratingz I ve been trying to change the font size using this class together with important tag but I guess that will not work right Is there any way to edit and customise this external stylesheet in this case'"
      ]
     },
     "execution_count": 28,
     "metadata": {},
     "output_type": "execute_result"
    }
   ],
   "source": [
    "docs_test[5]"
   ]
  }
 ],
 "metadata": {
  "kernelspec": {
   "display_name": "Python 3",
   "language": "python",
   "name": "python3"
  },
  "language_info": {
   "codemirror_mode": {
    "name": "ipython",
    "version": 3
   },
   "file_extension": ".py",
   "mimetype": "text/x-python",
   "name": "python",
   "nbconvert_exporter": "python",
   "pygments_lexer": "ipython3",
   "version": "3.8.8"
  }
 },
 "nbformat": 4,
 "nbformat_minor": 5
}
